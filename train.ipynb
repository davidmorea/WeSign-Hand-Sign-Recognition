{
 "cells": [
  {
   "cell_type": "code",
   "execution_count": 1,
   "metadata": {
    "id": "igMyGnjE9hEp"
   },
   "outputs": [],
   "source": [
    "import csv\n",
    "\n",
    "import numpy as np\n",
    "import tensorflow as tf\n",
    "from sklearn.model_selection import train_test_split\n",
    "\n",
    "RANDOM_SEED = 42"
   ]
  },
  {
   "cell_type": "markdown",
   "metadata": {
    "id": "t2HDvhIu9hEr"
   },
   "source": [
    "# Specify each path"
   ]
  },
  {
   "cell_type": "code",
   "execution_count": 2,
   "metadata": {
    "id": "9NvZP2Zn9hEy"
   },
   "outputs": [],
   "source": [
    "dataset = 'model/keypoint_classifier/keypoint.csv'\n",
    "model_save_path = 'model/keypoint_classifier/keypoint_classifier.hdf5'\n",
    "tflite_save_path = 'model/keypoint_classifier/keypoint_classifier.tflite'"
   ]
  },
  {
   "cell_type": "markdown",
   "metadata": {
    "id": "s5oMH7x19hEz"
   },
   "source": [
    "# Set number of classes"
   ]
  },
  {
   "cell_type": "code",
   "execution_count": 3,
   "metadata": {
    "id": "du4kodXL9hEz"
   },
   "outputs": [],
   "source": [
    "NUM_CLASSES = 20"
   ]
  },
  {
   "cell_type": "markdown",
   "metadata": {
    "id": "XjnL0uso9hEz"
   },
   "source": [
    "# Dataset reading"
   ]
  },
  {
   "cell_type": "code",
   "execution_count": 4,
   "metadata": {
    "id": "QT5ZqtEz9hE0"
   },
   "outputs": [],
   "source": [
    "X_dataset = np.loadtxt(dataset, delimiter=',', dtype='float32', usecols=list(range(1, (21 * 2) + 1)))"
   ]
  },
  {
   "cell_type": "code",
   "execution_count": 5,
   "metadata": {
    "id": "QmoKFsp49hE0"
   },
   "outputs": [],
   "source": [
    "y_dataset = np.loadtxt(dataset, delimiter=',', dtype='int32', usecols=(0))"
   ]
  },
  {
   "cell_type": "code",
   "execution_count": 6,
   "metadata": {
    "id": "xQU7JTZ_9hE0"
   },
   "outputs": [],
   "source": [
    "X_train, X_test, y_train, y_test = train_test_split(X_dataset, y_dataset, train_size=0.75, random_state=RANDOM_SEED)"
   ]
  },
  {
   "cell_type": "markdown",
   "metadata": {
    "id": "mxK_lETT9hE0"
   },
   "source": [
    "# Model building"
   ]
  },
  {
   "cell_type": "code",
   "execution_count": 7,
   "metadata": {
    "id": "vHBmUf1t9hE1"
   },
   "outputs": [
    {
     "name": "stderr",
     "output_type": "stream",
     "text": [
      "2022-05-31 12:29:52.899191: I tensorflow/core/platform/cpu_feature_guard.cc:151] This TensorFlow binary is optimized with oneAPI Deep Neural Network Library (oneDNN) to use the following CPU instructions in performance-critical operations:  AVX2 FMA\n",
      "To enable them in other operations, rebuild TensorFlow with the appropriate compiler flags.\n"
     ]
    }
   ],
   "source": [
    "model = tf.keras.models.Sequential([\n",
    "    tf.keras.layers.Input((21 * 2, )),\n",
    "    tf.keras.layers.Dropout(0.2),\n",
    "    tf.keras.layers.Dense(20, activation='relu'),\n",
    "    tf.keras.layers.Dropout(0.4),\n",
    "    tf.keras.layers.Dense(10, activation='relu'),\n",
    "    tf.keras.layers.Dense(NUM_CLASSES, activation='softmax')\n",
    "])"
   ]
  },
  {
   "cell_type": "code",
   "execution_count": 8,
   "metadata": {
    "colab": {
     "base_uri": "https://localhost:8080/"
    },
    "id": "ypqky9tc9hE1",
    "outputId": "5db082bb-30e3-4110-bf63-a1ee777ecd46"
   },
   "outputs": [
    {
     "name": "stdout",
     "output_type": "stream",
     "text": [
      "Model: \"sequential\"\n",
      "_________________________________________________________________\n",
      " Layer (type)                Output Shape              Param #   \n",
      "=================================================================\n",
      " dropout (Dropout)           (None, 42)                0         \n",
      "                                                                 \n",
      " dense (Dense)               (None, 20)                860       \n",
      "                                                                 \n",
      " dropout_1 (Dropout)         (None, 20)                0         \n",
      "                                                                 \n",
      " dense_1 (Dense)             (None, 10)                210       \n",
      "                                                                 \n",
      " dense_2 (Dense)             (None, 20)                220       \n",
      "                                                                 \n",
      "=================================================================\n",
      "Total params: 1,290\n",
      "Trainable params: 1,290\n",
      "Non-trainable params: 0\n",
      "_________________________________________________________________\n"
     ]
    }
   ],
   "source": [
    "model.summary()  # tf.keras.utils.plot_model(model, show_shapes=True)"
   ]
  },
  {
   "cell_type": "code",
   "execution_count": 9,
   "metadata": {
    "id": "MbMjOflQ9hE1"
   },
   "outputs": [],
   "source": [
    "# Model checkpoint callback\n",
    "cp_callback = tf.keras.callbacks.ModelCheckpoint(\n",
    "    model_save_path, verbose=1, save_weights_only=False)\n",
    "# Callback for early stopping\n",
    "es_callback = tf.keras.callbacks.EarlyStopping(patience=20, verbose=1)"
   ]
  },
  {
   "cell_type": "code",
   "execution_count": 10,
   "metadata": {
    "id": "c3Dac0M_9hE2"
   },
   "outputs": [],
   "source": [
    "# Model compilation\n",
    "model.compile(\n",
    "    optimizer='adam',\n",
    "    loss='sparse_categorical_crossentropy',\n",
    "    metrics=['accuracy']\n",
    ")"
   ]
  },
  {
   "cell_type": "markdown",
   "metadata": {
    "id": "7XI0j1Iu9hE2"
   },
   "source": [
    "# Model training"
   ]
  },
  {
   "cell_type": "code",
   "execution_count": 11,
   "metadata": {
    "colab": {
     "base_uri": "https://localhost:8080/"
    },
    "id": "WirBl-JE9hE3",
    "outputId": "71b30ca2-8294-4d9d-8aa2-800d90d399de",
    "scrolled": true
   },
   "outputs": [
    {
     "name": "stdout",
     "output_type": "stream",
     "text": [
      "Epoch 1/1000\n",
      "44/62 [====================>.........] - ETA: 0s - loss: 2.9795 - accuracy: 0.0824 \n",
      "Epoch 00001: saving model to model/keypoint_classifier/keypoint_classifier.hdf5\n",
      "62/62 [==============================] - 1s 4ms/step - loss: 2.9545 - accuracy: 0.0962 - val_loss: 2.8356 - val_accuracy: 0.1389\n",
      "Epoch 2/1000\n",
      "26/62 [===========>..................] - ETA: 0s - loss: 2.8270 - accuracy: 0.1553\n",
      "Epoch 00002: saving model to model/keypoint_classifier/keypoint_classifier.hdf5\n",
      "62/62 [==============================] - 0s 2ms/step - loss: 2.7803 - accuracy: 0.1616 - val_loss: 2.6491 - val_accuracy: 0.1738\n",
      "Epoch 3/1000\n",
      "35/62 [===============>..............] - ETA: 0s - loss: 2.6455 - accuracy: 0.1766\n",
      "Epoch 00003: saving model to model/keypoint_classifier/keypoint_classifier.hdf5\n",
      "62/62 [==============================] - 0s 2ms/step - loss: 2.6387 - accuracy: 0.1747 - val_loss: 2.5242 - val_accuracy: 0.1857\n",
      "Epoch 4/1000\n",
      "37/62 [================>.............] - ETA: 0s - loss: 2.5530 - accuracy: 0.1706\n",
      "Epoch 00004: saving model to model/keypoint_classifier/keypoint_classifier.hdf5\n",
      "62/62 [==============================] - 0s 2ms/step - loss: 2.5453 - accuracy: 0.1742 - val_loss: 2.4200 - val_accuracy: 0.2021\n",
      "Epoch 5/1000\n",
      "56/62 [==========================>...] - ETA: 0s - loss: 2.4602 - accuracy: 0.1911\n",
      "Epoch 00005: saving model to model/keypoint_classifier/keypoint_classifier.hdf5\n",
      "62/62 [==============================] - 0s 3ms/step - loss: 2.4558 - accuracy: 0.1915 - val_loss: 2.3048 - val_accuracy: 0.2167\n",
      "Epoch 6/1000\n",
      "56/62 [==========================>...] - ETA: 0s - loss: 2.3662 - accuracy: 0.2266\n",
      "Epoch 00006: saving model to model/keypoint_classifier/keypoint_classifier.hdf5\n",
      "62/62 [==============================] - 0s 2ms/step - loss: 2.3641 - accuracy: 0.2284 - val_loss: 2.2004 - val_accuracy: 0.3038\n",
      "Epoch 7/1000\n",
      "51/62 [=======================>......] - ETA: 0s - loss: 2.2924 - accuracy: 0.2538\n",
      "Epoch 00007: saving model to model/keypoint_classifier/keypoint_classifier.hdf5\n",
      "62/62 [==============================] - 0s 2ms/step - loss: 2.2894 - accuracy: 0.2551 - val_loss: 2.0924 - val_accuracy: 0.3395\n",
      "Epoch 8/1000\n",
      "53/62 [========================>.....] - ETA: 0s - loss: 2.2308 - accuracy: 0.2581\n",
      "Epoch 00008: saving model to model/keypoint_classifier/keypoint_classifier.hdf5\n",
      "62/62 [==============================] - 0s 2ms/step - loss: 2.2163 - accuracy: 0.2621 - val_loss: 1.9885 - val_accuracy: 0.3671\n",
      "Epoch 9/1000\n",
      "54/62 [=========================>....] - ETA: 0s - loss: 2.1366 - accuracy: 0.2857\n",
      "Epoch 00009: saving model to model/keypoint_classifier/keypoint_classifier.hdf5\n",
      "62/62 [==============================] - 0s 2ms/step - loss: 2.1305 - accuracy: 0.2888 - val_loss: 1.8886 - val_accuracy: 0.4108\n",
      "Epoch 10/1000\n",
      "57/62 [==========================>...] - ETA: 0s - loss: 2.0815 - accuracy: 0.3044\n",
      "Epoch 00010: saving model to model/keypoint_classifier/keypoint_classifier.hdf5\n",
      "62/62 [==============================] - 0s 2ms/step - loss: 2.0799 - accuracy: 0.3030 - val_loss: 1.8062 - val_accuracy: 0.3982\n",
      "Epoch 11/1000\n",
      "55/62 [=========================>....] - ETA: 0s - loss: 2.0412 - accuracy: 0.3129\n",
      "Epoch 00011: saving model to model/keypoint_classifier/keypoint_classifier.hdf5\n",
      "62/62 [==============================] - 0s 2ms/step - loss: 2.0303 - accuracy: 0.3167 - val_loss: 1.7338 - val_accuracy: 0.4108\n",
      "Epoch 12/1000\n",
      "52/62 [========================>.....] - ETA: 0s - loss: 1.9847 - accuracy: 0.3307\n",
      "Epoch 00012: saving model to model/keypoint_classifier/keypoint_classifier.hdf5\n",
      "62/62 [==============================] - 0s 2ms/step - loss: 1.9869 - accuracy: 0.3315 - val_loss: 1.6860 - val_accuracy: 0.4354\n",
      "Epoch 13/1000\n",
      "51/62 [=======================>......] - ETA: 0s - loss: 1.9592 - accuracy: 0.3358\n",
      "Epoch 00013: saving model to model/keypoint_classifier/keypoint_classifier.hdf5\n",
      "62/62 [==============================] - 0s 2ms/step - loss: 1.9509 - accuracy: 0.3384 - val_loss: 1.6378 - val_accuracy: 0.4898\n",
      "Epoch 14/1000\n",
      "44/62 [====================>.........] - ETA: 0s - loss: 1.9110 - accuracy: 0.3615\n",
      "Epoch 00014: saving model to model/keypoint_classifier/keypoint_classifier.hdf5\n",
      "62/62 [==============================] - 0s 2ms/step - loss: 1.9057 - accuracy: 0.3592 - val_loss: 1.5784 - val_accuracy: 0.5094\n",
      "Epoch 15/1000\n",
      "53/62 [========================>.....] - ETA: 0s - loss: 1.8801 - accuracy: 0.3628\n",
      "Epoch 00015: saving model to model/keypoint_classifier/keypoint_classifier.hdf5\n",
      "62/62 [==============================] - 0s 2ms/step - loss: 1.8818 - accuracy: 0.3622 - val_loss: 1.5377 - val_accuracy: 0.5132\n",
      "Epoch 16/1000\n",
      "56/62 [==========================>...] - ETA: 0s - loss: 1.8501 - accuracy: 0.3707\n",
      "Epoch 00016: saving model to model/keypoint_classifier/keypoint_classifier.hdf5\n",
      "62/62 [==============================] - 0s 2ms/step - loss: 1.8537 - accuracy: 0.3666 - val_loss: 1.4854 - val_accuracy: 0.5267\n",
      "Epoch 17/1000\n",
      "55/62 [=========================>....] - ETA: 0s - loss: 1.8315 - accuracy: 0.3764\n",
      "Epoch 00017: saving model to model/keypoint_classifier/keypoint_classifier.hdf5\n",
      "62/62 [==============================] - 0s 2ms/step - loss: 1.8289 - accuracy: 0.3761 - val_loss: 1.4504 - val_accuracy: 0.5535\n",
      "Epoch 18/1000\n",
      "52/62 [========================>.....] - ETA: 0s - loss: 1.7775 - accuracy: 0.3929\n",
      "Epoch 00018: saving model to model/keypoint_classifier/keypoint_classifier.hdf5\n",
      "62/62 [==============================] - 0s 2ms/step - loss: 1.7809 - accuracy: 0.3945 - val_loss: 1.4106 - val_accuracy: 0.5700\n",
      "Epoch 19/1000\n",
      "62/62 [==============================] - ETA: 0s - loss: 1.7708 - accuracy: 0.3954\n",
      "Epoch 00019: saving model to model/keypoint_classifier/keypoint_classifier.hdf5\n",
      "62/62 [==============================] - 0s 5ms/step - loss: 1.7708 - accuracy: 0.3954 - val_loss: 1.3798 - val_accuracy: 0.5819\n",
      "Epoch 20/1000\n",
      "42/62 [===================>..........] - ETA: 0s - loss: 1.7578 - accuracy: 0.4059\n",
      "Epoch 00020: saving model to model/keypoint_classifier/keypoint_classifier.hdf5\n",
      "62/62 [==============================] - 0s 2ms/step - loss: 1.7583 - accuracy: 0.4024 - val_loss: 1.3542 - val_accuracy: 0.6130\n",
      "Epoch 21/1000\n",
      "48/62 [======================>.......] - ETA: 0s - loss: 1.7315 - accuracy: 0.4089\n",
      "Epoch 00021: saving model to model/keypoint_classifier/keypoint_classifier.hdf5\n",
      "62/62 [==============================] - 0s 2ms/step - loss: 1.7203 - accuracy: 0.4133 - val_loss: 1.3103 - val_accuracy: 0.6241\n",
      "Epoch 22/1000\n",
      "54/62 [=========================>....] - ETA: 0s - loss: 1.7172 - accuracy: 0.4217\n",
      "Epoch 00022: saving model to model/keypoint_classifier/keypoint_classifier.hdf5\n",
      "62/62 [==============================] - 0s 2ms/step - loss: 1.7163 - accuracy: 0.4222 - val_loss: 1.2966 - val_accuracy: 0.6260\n",
      "Epoch 23/1000\n",
      "50/62 [=======================>......] - ETA: 0s - loss: 1.6869 - accuracy: 0.4261\n",
      "Epoch 00023: saving model to model/keypoint_classifier/keypoint_classifier.hdf5\n",
      "62/62 [==============================] - 0s 2ms/step - loss: 1.6808 - accuracy: 0.4291 - val_loss: 1.2463 - val_accuracy: 0.6425\n",
      "Epoch 24/1000\n",
      "45/62 [====================>.........] - ETA: 0s - loss: 1.6817 - accuracy: 0.4194\n",
      "Epoch 00024: saving model to model/keypoint_classifier/keypoint_classifier.hdf5\n",
      "62/62 [==============================] - 0s 2ms/step - loss: 1.6740 - accuracy: 0.4230 - val_loss: 1.2188 - val_accuracy: 0.6598\n",
      "Epoch 25/1000\n",
      "45/62 [====================>.........] - ETA: 0s - loss: 1.6760 - accuracy: 0.4345\n",
      "Epoch 00025: saving model to model/keypoint_classifier/keypoint_classifier.hdf5\n",
      "62/62 [==============================] - 0s 2ms/step - loss: 1.6657 - accuracy: 0.4354 - val_loss: 1.2167 - val_accuracy: 0.6448\n",
      "Epoch 26/1000\n",
      "49/62 [======================>.......] - ETA: 0s - loss: 1.6297 - accuracy: 0.4515\n",
      "Epoch 00026: saving model to model/keypoint_classifier/keypoint_classifier.hdf5\n",
      "62/62 [==============================] - 0s 2ms/step - loss: 1.6324 - accuracy: 0.4479 - val_loss: 1.1953 - val_accuracy: 0.6586\n",
      "Epoch 27/1000\n",
      "49/62 [======================>.......] - ETA: 0s - loss: 1.6421 - accuracy: 0.4372\n",
      "Epoch 00027: saving model to model/keypoint_classifier/keypoint_classifier.hdf5\n",
      "62/62 [==============================] - 0s 2ms/step - loss: 1.6279 - accuracy: 0.4424 - val_loss: 1.1716 - val_accuracy: 0.6659\n"
     ]
    },
    {
     "name": "stdout",
     "output_type": "stream",
     "text": [
      "Epoch 28/1000\n",
      "42/62 [===================>..........] - ETA: 0s - loss: 1.6108 - accuracy: 0.4496\n",
      "Epoch 00028: saving model to model/keypoint_classifier/keypoint_classifier.hdf5\n",
      "62/62 [==============================] - 0s 2ms/step - loss: 1.6109 - accuracy: 0.4501 - val_loss: 1.1466 - val_accuracy: 0.6824\n",
      "Epoch 29/1000\n",
      "52/62 [========================>.....] - ETA: 0s - loss: 1.5871 - accuracy: 0.4584\n",
      "Epoch 00029: saving model to model/keypoint_classifier/keypoint_classifier.hdf5\n",
      "62/62 [==============================] - 0s 2ms/step - loss: 1.5905 - accuracy: 0.4568 - val_loss: 1.1296 - val_accuracy: 0.6824\n",
      "Epoch 30/1000\n",
      "48/62 [======================>.......] - ETA: 0s - loss: 1.5695 - accuracy: 0.4593\n",
      "Epoch 00030: saving model to model/keypoint_classifier/keypoint_classifier.hdf5\n",
      "62/62 [==============================] - 0s 2ms/step - loss: 1.5728 - accuracy: 0.4600 - val_loss: 1.1277 - val_accuracy: 0.6740\n",
      "Epoch 31/1000\n",
      "45/62 [====================>.........] - ETA: 0s - loss: 1.5760 - accuracy: 0.4618\n",
      "Epoch 00031: saving model to model/keypoint_classifier/keypoint_classifier.hdf5\n",
      "62/62 [==============================] - 0s 2ms/step - loss: 1.5701 - accuracy: 0.4588 - val_loss: 1.1016 - val_accuracy: 0.6916\n",
      "Epoch 32/1000\n",
      "49/62 [======================>.......] - ETA: 0s - loss: 1.5377 - accuracy: 0.4665\n",
      "Epoch 00032: saving model to model/keypoint_classifier/keypoint_classifier.hdf5\n",
      "62/62 [==============================] - 0s 2ms/step - loss: 1.5409 - accuracy: 0.4671 - val_loss: 1.0788 - val_accuracy: 0.7039\n",
      "Epoch 33/1000\n",
      "57/62 [==========================>...] - ETA: 0s - loss: 1.5515 - accuracy: 0.4716\n",
      "Epoch 00033: saving model to model/keypoint_classifier/keypoint_classifier.hdf5\n",
      "62/62 [==============================] - 0s 2ms/step - loss: 1.5523 - accuracy: 0.4717 - val_loss: 1.0805 - val_accuracy: 0.6954\n",
      "Epoch 34/1000\n",
      "54/62 [=========================>....] - ETA: 0s - loss: 1.5535 - accuracy: 0.4734\n",
      "Epoch 00034: saving model to model/keypoint_classifier/keypoint_classifier.hdf5\n",
      "62/62 [==============================] - 0s 2ms/step - loss: 1.5511 - accuracy: 0.4756 - val_loss: 1.0677 - val_accuracy: 0.7077\n",
      "Epoch 35/1000\n",
      "53/62 [========================>.....] - ETA: 0s - loss: 1.5349 - accuracy: 0.4825\n",
      "Epoch 00035: saving model to model/keypoint_classifier/keypoint_classifier.hdf5\n",
      "62/62 [==============================] - 0s 2ms/step - loss: 1.5390 - accuracy: 0.4812 - val_loss: 1.0565 - val_accuracy: 0.6931\n",
      "Epoch 36/1000\n",
      "49/62 [======================>.......] - ETA: 0s - loss: 1.5354 - accuracy: 0.4759\n",
      "Epoch 00036: saving model to model/keypoint_classifier/keypoint_classifier.hdf5\n",
      "62/62 [==============================] - 0s 2ms/step - loss: 1.5376 - accuracy: 0.4735 - val_loss: 1.0410 - val_accuracy: 0.7066\n",
      "Epoch 37/1000\n",
      "59/62 [===========================>..] - ETA: 0s - loss: 1.5203 - accuracy: 0.4827\n",
      "Epoch 00037: saving model to model/keypoint_classifier/keypoint_classifier.hdf5\n",
      "62/62 [==============================] - 0s 2ms/step - loss: 1.5200 - accuracy: 0.4832 - val_loss: 1.0375 - val_accuracy: 0.7096\n",
      "Epoch 38/1000\n",
      "59/62 [===========================>..] - ETA: 0s - loss: 1.5109 - accuracy: 0.4808\n",
      "Epoch 00038: saving model to model/keypoint_classifier/keypoint_classifier.hdf5\n",
      "62/62 [==============================] - 0s 2ms/step - loss: 1.5113 - accuracy: 0.4802 - val_loss: 1.0261 - val_accuracy: 0.7112\n",
      "Epoch 39/1000\n",
      "54/62 [=========================>....] - ETA: 0s - loss: 1.5139 - accuracy: 0.4855\n",
      "Epoch 00039: saving model to model/keypoint_classifier/keypoint_classifier.hdf5\n",
      "62/62 [==============================] - 0s 2ms/step - loss: 1.5054 - accuracy: 0.4884 - val_loss: 1.0193 - val_accuracy: 0.7169\n",
      "Epoch 40/1000\n",
      "50/62 [=======================>......] - ETA: 0s - loss: 1.5347 - accuracy: 0.4764\n",
      "Epoch 00040: saving model to model/keypoint_classifier/keypoint_classifier.hdf5\n",
      "62/62 [==============================] - 0s 2ms/step - loss: 1.5154 - accuracy: 0.4821 - val_loss: 1.0079 - val_accuracy: 0.7284\n",
      "Epoch 41/1000\n",
      "55/62 [=========================>....] - ETA: 0s - loss: 1.5036 - accuracy: 0.4893\n",
      "Epoch 00041: saving model to model/keypoint_classifier/keypoint_classifier.hdf5\n",
      "62/62 [==============================] - 0s 2ms/step - loss: 1.4982 - accuracy: 0.4900 - val_loss: 1.0068 - val_accuracy: 0.7104\n",
      "Epoch 42/1000\n",
      "52/62 [========================>.....] - ETA: 0s - loss: 1.4967 - accuracy: 0.4899\n",
      "Epoch 00042: saving model to model/keypoint_classifier/keypoint_classifier.hdf5\n",
      "62/62 [==============================] - 0s 2ms/step - loss: 1.5008 - accuracy: 0.4891 - val_loss: 0.9955 - val_accuracy: 0.7277\n",
      "Epoch 43/1000\n",
      "48/62 [======================>.......] - ETA: 0s - loss: 1.4772 - accuracy: 0.4928\n",
      "Epoch 00043: saving model to model/keypoint_classifier/keypoint_classifier.hdf5\n",
      "62/62 [==============================] - 0s 2ms/step - loss: 1.4848 - accuracy: 0.4932 - val_loss: 0.9935 - val_accuracy: 0.7215\n",
      "Epoch 44/1000\n",
      "52/62 [========================>.....] - ETA: 0s - loss: 1.4833 - accuracy: 0.4907\n",
      "Epoch 00044: saving model to model/keypoint_classifier/keypoint_classifier.hdf5\n",
      "62/62 [==============================] - 0s 2ms/step - loss: 1.4872 - accuracy: 0.4894 - val_loss: 0.9810 - val_accuracy: 0.7257\n",
      "Epoch 45/1000\n",
      "49/62 [======================>.......] - ETA: 0s - loss: 1.4824 - accuracy: 0.4939\n",
      "Epoch 00045: saving model to model/keypoint_classifier/keypoint_classifier.hdf5\n",
      "62/62 [==============================] - 0s 2ms/step - loss: 1.4860 - accuracy: 0.4926 - val_loss: 0.9780 - val_accuracy: 0.7188\n",
      "Epoch 46/1000\n",
      "50/62 [=======================>......] - ETA: 0s - loss: 1.4880 - accuracy: 0.4930\n",
      "Epoch 00046: saving model to model/keypoint_classifier/keypoint_classifier.hdf5\n",
      "62/62 [==============================] - 0s 2ms/step - loss: 1.4757 - accuracy: 0.4976 - val_loss: 0.9780 - val_accuracy: 0.7192\n",
      "Epoch 47/1000\n",
      "47/62 [=====================>........] - ETA: 0s - loss: 1.4580 - accuracy: 0.5008\n",
      "Epoch 00047: saving model to model/keypoint_classifier/keypoint_classifier.hdf5\n",
      "62/62 [==============================] - 0s 2ms/step - loss: 1.4594 - accuracy: 0.4968 - val_loss: 0.9704 - val_accuracy: 0.7123\n",
      "Epoch 48/1000\n",
      "46/62 [=====================>........] - ETA: 0s - loss: 1.4916 - accuracy: 0.4900\n",
      "Epoch 00048: saving model to model/keypoint_classifier/keypoint_classifier.hdf5\n",
      "62/62 [==============================] - 0s 2ms/step - loss: 1.4830 - accuracy: 0.4945 - val_loss: 0.9766 - val_accuracy: 0.7196\n",
      "Epoch 49/1000\n",
      "46/62 [=====================>........] - ETA: 0s - loss: 1.4655 - accuracy: 0.4905\n",
      "Epoch 00049: saving model to model/keypoint_classifier/keypoint_classifier.hdf5\n",
      "62/62 [==============================] - 0s 2ms/step - loss: 1.4664 - accuracy: 0.4930 - val_loss: 0.9646 - val_accuracy: 0.7161\n",
      "Epoch 50/1000\n",
      "43/62 [===================>..........] - ETA: 0s - loss: 1.4505 - accuracy: 0.5031\n",
      "Epoch 00050: saving model to model/keypoint_classifier/keypoint_classifier.hdf5\n",
      "62/62 [==============================] - 0s 2ms/step - loss: 1.4375 - accuracy: 0.5088 - val_loss: 0.9612 - val_accuracy: 0.7081\n",
      "Epoch 51/1000\n",
      "41/62 [==================>...........] - ETA: 0s - loss: 1.4527 - accuracy: 0.4949\n",
      "Epoch 00051: saving model to model/keypoint_classifier/keypoint_classifier.hdf5\n",
      "62/62 [==============================] - 0s 2ms/step - loss: 1.4510 - accuracy: 0.5008 - val_loss: 0.9372 - val_accuracy: 0.7395\n",
      "Epoch 52/1000\n",
      "47/62 [=====================>........] - ETA: 0s - loss: 1.4585 - accuracy: 0.5028\n",
      "Epoch 00052: saving model to model/keypoint_classifier/keypoint_classifier.hdf5\n",
      "62/62 [==============================] - 0s 2ms/step - loss: 1.4501 - accuracy: 0.5023 - val_loss: 0.9516 - val_accuracy: 0.6935\n",
      "Epoch 53/1000\n",
      "52/62 [========================>.....] - ETA: 0s - loss: 1.4502 - accuracy: 0.5080\n",
      "Epoch 00053: saving model to model/keypoint_classifier/keypoint_classifier.hdf5\n",
      "62/62 [==============================] - 0s 2ms/step - loss: 1.4430 - accuracy: 0.5106 - val_loss: 0.9466 - val_accuracy: 0.7323\n",
      "Epoch 54/1000\n",
      "50/62 [=======================>......] - ETA: 0s - loss: 1.4623 - accuracy: 0.4964\n",
      "Epoch 00054: saving model to model/keypoint_classifier/keypoint_classifier.hdf5\n",
      "62/62 [==============================] - 0s 2ms/step - loss: 1.4569 - accuracy: 0.4965 - val_loss: 0.9307 - val_accuracy: 0.7384\n"
     ]
    },
    {
     "name": "stdout",
     "output_type": "stream",
     "text": [
      "Epoch 55/1000\n",
      "46/62 [=====================>........] - ETA: 0s - loss: 1.4415 - accuracy: 0.5010\n",
      "Epoch 00055: saving model to model/keypoint_classifier/keypoint_classifier.hdf5\n",
      "62/62 [==============================] - 0s 2ms/step - loss: 1.4507 - accuracy: 0.4999 - val_loss: 0.9396 - val_accuracy: 0.7154\n",
      "Epoch 56/1000\n",
      "56/62 [==========================>...] - ETA: 0s - loss: 1.4180 - accuracy: 0.5180\n",
      "Epoch 00056: saving model to model/keypoint_classifier/keypoint_classifier.hdf5\n",
      "62/62 [==============================] - 0s 2ms/step - loss: 1.4201 - accuracy: 0.5152 - val_loss: 0.9342 - val_accuracy: 0.7150\n",
      "Epoch 57/1000\n",
      "57/62 [==========================>...] - ETA: 0s - loss: 1.4452 - accuracy: 0.5026\n",
      "Epoch 00057: saving model to model/keypoint_classifier/keypoint_classifier.hdf5\n",
      "62/62 [==============================] - 0s 2ms/step - loss: 1.4462 - accuracy: 0.5024 - val_loss: 0.9374 - val_accuracy: 0.7280\n",
      "Epoch 58/1000\n",
      "56/62 [==========================>...] - ETA: 0s - loss: 1.4331 - accuracy: 0.5131\n",
      "Epoch 00058: saving model to model/keypoint_classifier/keypoint_classifier.hdf5\n",
      "62/62 [==============================] - 0s 2ms/step - loss: 1.4344 - accuracy: 0.5128 - val_loss: 0.9229 - val_accuracy: 0.7288\n",
      "Epoch 59/1000\n",
      "56/62 [==========================>...] - ETA: 0s - loss: 1.4264 - accuracy: 0.5105\n",
      "Epoch 00059: saving model to model/keypoint_classifier/keypoint_classifier.hdf5\n",
      "62/62 [==============================] - 0s 2ms/step - loss: 1.4293 - accuracy: 0.5092 - val_loss: 0.9274 - val_accuracy: 0.7073\n",
      "Epoch 60/1000\n",
      "58/62 [===========================>..] - ETA: 0s - loss: 1.4432 - accuracy: 0.5079\n",
      "Epoch 00060: saving model to model/keypoint_classifier/keypoint_classifier.hdf5\n",
      "62/62 [==============================] - 0s 2ms/step - loss: 1.4400 - accuracy: 0.5074 - val_loss: 0.9216 - val_accuracy: 0.7027\n",
      "Epoch 61/1000\n",
      "60/62 [============================>.] - ETA: 0s - loss: 1.4145 - accuracy: 0.5126\n",
      "Epoch 00061: saving model to model/keypoint_classifier/keypoint_classifier.hdf5\n",
      "62/62 [==============================] - 0s 2ms/step - loss: 1.4158 - accuracy: 0.5120 - val_loss: 0.9201 - val_accuracy: 0.7023\n",
      "Epoch 62/1000\n",
      "57/62 [==========================>...] - ETA: 0s - loss: 1.4331 - accuracy: 0.5079\n",
      "Epoch 00062: saving model to model/keypoint_classifier/keypoint_classifier.hdf5\n",
      "62/62 [==============================] - 0s 2ms/step - loss: 1.4293 - accuracy: 0.5104 - val_loss: 0.9281 - val_accuracy: 0.7330\n",
      "Epoch 63/1000\n",
      "59/62 [===========================>..] - ETA: 0s - loss: 1.4287 - accuracy: 0.5120\n",
      "Epoch 00063: saving model to model/keypoint_classifier/keypoint_classifier.hdf5\n",
      "62/62 [==============================] - 0s 2ms/step - loss: 1.4244 - accuracy: 0.5139 - val_loss: 0.9188 - val_accuracy: 0.7123\n",
      "Epoch 64/1000\n",
      "57/62 [==========================>...] - ETA: 0s - loss: 1.4092 - accuracy: 0.5119\n",
      "Epoch 00064: saving model to model/keypoint_classifier/keypoint_classifier.hdf5\n",
      "62/62 [==============================] - 0s 2ms/step - loss: 1.4145 - accuracy: 0.5104 - val_loss: 0.8973 - val_accuracy: 0.7384\n",
      "Epoch 65/1000\n",
      "60/62 [============================>.] - ETA: 0s - loss: 1.4199 - accuracy: 0.5160\n",
      "Epoch 00065: saving model to model/keypoint_classifier/keypoint_classifier.hdf5\n",
      "62/62 [==============================] - 0s 2ms/step - loss: 1.4189 - accuracy: 0.5160 - val_loss: 0.9018 - val_accuracy: 0.7135\n",
      "Epoch 66/1000\n",
      "57/62 [==========================>...] - ETA: 0s - loss: 1.4099 - accuracy: 0.5114\n",
      "Epoch 00066: saving model to model/keypoint_classifier/keypoint_classifier.hdf5\n",
      "62/62 [==============================] - 0s 2ms/step - loss: 1.4093 - accuracy: 0.5114 - val_loss: 0.9040 - val_accuracy: 0.7353\n",
      "Epoch 67/1000\n",
      "57/62 [==========================>...] - ETA: 0s - loss: 1.4268 - accuracy: 0.5132\n",
      "Epoch 00067: saving model to model/keypoint_classifier/keypoint_classifier.hdf5\n",
      "62/62 [==============================] - 0s 2ms/step - loss: 1.4267 - accuracy: 0.5127 - val_loss: 0.9021 - val_accuracy: 0.7273\n",
      "Epoch 68/1000\n",
      "46/62 [=====================>........] - ETA: 0s - loss: 1.4110 - accuracy: 0.5144\n",
      "Epoch 00068: saving model to model/keypoint_classifier/keypoint_classifier.hdf5\n",
      "62/62 [==============================] - 0s 2ms/step - loss: 1.4072 - accuracy: 0.5184 - val_loss: 0.8993 - val_accuracy: 0.7319\n",
      "Epoch 69/1000\n",
      "54/62 [=========================>....] - ETA: 0s - loss: 1.3937 - accuracy: 0.5236\n",
      "Epoch 00069: saving model to model/keypoint_classifier/keypoint_classifier.hdf5\n",
      "62/62 [==============================] - 0s 2ms/step - loss: 1.4029 - accuracy: 0.5216 - val_loss: 0.9012 - val_accuracy: 0.7215\n",
      "Epoch 70/1000\n",
      "45/62 [====================>.........] - ETA: 0s - loss: 1.4313 - accuracy: 0.5116\n",
      "Epoch 00070: saving model to model/keypoint_classifier/keypoint_classifier.hdf5\n",
      "62/62 [==============================] - 0s 2ms/step - loss: 1.4242 - accuracy: 0.5141 - val_loss: 0.8913 - val_accuracy: 0.7449\n",
      "Epoch 71/1000\n",
      "47/62 [=====================>........] - ETA: 0s - loss: 1.4084 - accuracy: 0.5168\n",
      "Epoch 00071: saving model to model/keypoint_classifier/keypoint_classifier.hdf5\n",
      "62/62 [==============================] - 0s 2ms/step - loss: 1.4163 - accuracy: 0.5141 - val_loss: 0.8848 - val_accuracy: 0.7238\n",
      "Epoch 72/1000\n",
      "59/62 [===========================>..] - ETA: 0s - loss: 1.4185 - accuracy: 0.5197\n",
      "Epoch 00072: saving model to model/keypoint_classifier/keypoint_classifier.hdf5\n",
      "62/62 [==============================] - 0s 2ms/step - loss: 1.4167 - accuracy: 0.5192 - val_loss: 0.8986 - val_accuracy: 0.7192\n",
      "Epoch 73/1000\n",
      "58/62 [===========================>..] - ETA: 0s - loss: 1.4053 - accuracy: 0.5194\n",
      "Epoch 00073: saving model to model/keypoint_classifier/keypoint_classifier.hdf5\n",
      "62/62 [==============================] - 0s 2ms/step - loss: 1.3996 - accuracy: 0.5211 - val_loss: 0.8908 - val_accuracy: 0.7614\n",
      "Epoch 74/1000\n",
      "54/62 [=========================>....] - ETA: 0s - loss: 1.4031 - accuracy: 0.5214\n",
      "Epoch 00074: saving model to model/keypoint_classifier/keypoint_classifier.hdf5\n",
      "62/62 [==============================] - 0s 2ms/step - loss: 1.4003 - accuracy: 0.5220 - val_loss: 0.8853 - val_accuracy: 0.7334\n",
      "Epoch 75/1000\n",
      "57/62 [==========================>...] - ETA: 0s - loss: 1.3867 - accuracy: 0.5299\n",
      "Epoch 00075: saving model to model/keypoint_classifier/keypoint_classifier.hdf5\n",
      "62/62 [==============================] - 0s 2ms/step - loss: 1.3889 - accuracy: 0.5289 - val_loss: 0.8783 - val_accuracy: 0.7392\n",
      "Epoch 76/1000\n",
      "56/62 [==========================>...] - ETA: 0s - loss: 1.3808 - accuracy: 0.5325\n",
      "Epoch 00076: saving model to model/keypoint_classifier/keypoint_classifier.hdf5\n",
      "62/62 [==============================] - 0s 2ms/step - loss: 1.3833 - accuracy: 0.5304 - val_loss: 0.8783 - val_accuracy: 0.7426\n",
      "Epoch 77/1000\n",
      "57/62 [==========================>...] - ETA: 0s - loss: 1.3910 - accuracy: 0.5271\n",
      "Epoch 00077: saving model to model/keypoint_classifier/keypoint_classifier.hdf5\n",
      "62/62 [==============================] - 0s 2ms/step - loss: 1.3914 - accuracy: 0.5248 - val_loss: 0.8744 - val_accuracy: 0.7326\n",
      "Epoch 78/1000\n",
      "61/62 [============================>.] - ETA: 0s - loss: 1.3745 - accuracy: 0.5287\n",
      "Epoch 00078: saving model to model/keypoint_classifier/keypoint_classifier.hdf5\n",
      "62/62 [==============================] - 0s 2ms/step - loss: 1.3746 - accuracy: 0.5285 - val_loss: 0.8803 - val_accuracy: 0.7365\n",
      "Epoch 79/1000\n",
      "58/62 [===========================>..] - ETA: 0s - loss: 1.3786 - accuracy: 0.5251\n",
      "Epoch 00079: saving model to model/keypoint_classifier/keypoint_classifier.hdf5\n",
      "62/62 [==============================] - 0s 2ms/step - loss: 1.3737 - accuracy: 0.5255 - val_loss: 0.8726 - val_accuracy: 0.7323\n",
      "Epoch 80/1000\n",
      "54/62 [=========================>....] - ETA: 0s - loss: 1.3976 - accuracy: 0.5187\n",
      "Epoch 00080: saving model to model/keypoint_classifier/keypoint_classifier.hdf5\n",
      "62/62 [==============================] - 0s 2ms/step - loss: 1.4005 - accuracy: 0.5210 - val_loss: 0.8877 - val_accuracy: 0.7388\n",
      "Epoch 81/1000\n",
      "51/62 [=======================>......] - ETA: 0s - loss: 1.3603 - accuracy: 0.5417\n",
      "Epoch 00081: saving model to model/keypoint_classifier/keypoint_classifier.hdf5\n",
      "62/62 [==============================] - 0s 2ms/step - loss: 1.3661 - accuracy: 0.5381 - val_loss: 0.8644 - val_accuracy: 0.7564\n"
     ]
    },
    {
     "name": "stdout",
     "output_type": "stream",
     "text": [
      "Epoch 82/1000\n",
      "58/62 [===========================>..] - ETA: 0s - loss: 1.3624 - accuracy: 0.5345\n",
      "Epoch 00082: saving model to model/keypoint_classifier/keypoint_classifier.hdf5\n",
      "62/62 [==============================] - 0s 2ms/step - loss: 1.3697 - accuracy: 0.5324 - val_loss: 0.8664 - val_accuracy: 0.7357\n",
      "Epoch 83/1000\n",
      "59/62 [===========================>..] - ETA: 0s - loss: 1.3678 - accuracy: 0.5338\n",
      "Epoch 00083: saving model to model/keypoint_classifier/keypoint_classifier.hdf5\n",
      "62/62 [==============================] - 0s 2ms/step - loss: 1.3643 - accuracy: 0.5344 - val_loss: 0.8570 - val_accuracy: 0.7484\n",
      "Epoch 84/1000\n",
      "59/62 [===========================>..] - ETA: 0s - loss: 1.3679 - accuracy: 0.5340\n",
      "Epoch 00084: saving model to model/keypoint_classifier/keypoint_classifier.hdf5\n",
      "62/62 [==============================] - 0s 2ms/step - loss: 1.3700 - accuracy: 0.5336 - val_loss: 0.8752 - val_accuracy: 0.7242\n",
      "Epoch 85/1000\n",
      "58/62 [===========================>..] - ETA: 0s - loss: 1.3636 - accuracy: 0.5384\n",
      "Epoch 00085: saving model to model/keypoint_classifier/keypoint_classifier.hdf5\n",
      "62/62 [==============================] - 0s 2ms/step - loss: 1.3636 - accuracy: 0.5381 - val_loss: 0.8524 - val_accuracy: 0.7557\n",
      "Epoch 86/1000\n",
      "60/62 [============================>.] - ETA: 0s - loss: 1.3643 - accuracy: 0.5326\n",
      "Epoch 00086: saving model to model/keypoint_classifier/keypoint_classifier.hdf5\n",
      "62/62 [==============================] - 0s 2ms/step - loss: 1.3638 - accuracy: 0.5331 - val_loss: 0.8557 - val_accuracy: 0.7484\n",
      "Epoch 87/1000\n",
      "59/62 [===========================>..] - ETA: 0s - loss: 1.3708 - accuracy: 0.5285\n",
      "Epoch 00087: saving model to model/keypoint_classifier/keypoint_classifier.hdf5\n",
      "62/62 [==============================] - 0s 2ms/step - loss: 1.3721 - accuracy: 0.5292 - val_loss: 0.8667 - val_accuracy: 0.7300\n",
      "Epoch 88/1000\n",
      "58/62 [===========================>..] - ETA: 0s - loss: 1.3598 - accuracy: 0.5364\n",
      "Epoch 00088: saving model to model/keypoint_classifier/keypoint_classifier.hdf5\n",
      "62/62 [==============================] - 0s 2ms/step - loss: 1.3536 - accuracy: 0.5389 - val_loss: 0.8372 - val_accuracy: 0.7618\n",
      "Epoch 89/1000\n",
      "58/62 [===========================>..] - ETA: 0s - loss: 1.3631 - accuracy: 0.5369\n",
      "Epoch 00089: saving model to model/keypoint_classifier/keypoint_classifier.hdf5\n",
      "62/62 [==============================] - 0s 2ms/step - loss: 1.3598 - accuracy: 0.5380 - val_loss: 0.8683 - val_accuracy: 0.7342\n",
      "Epoch 90/1000\n",
      "61/62 [============================>.] - ETA: 0s - loss: 1.3705 - accuracy: 0.5430\n",
      "Epoch 00090: saving model to model/keypoint_classifier/keypoint_classifier.hdf5\n",
      "62/62 [==============================] - 0s 2ms/step - loss: 1.3710 - accuracy: 0.5428 - val_loss: 0.8665 - val_accuracy: 0.7392\n",
      "Epoch 91/1000\n",
      "59/62 [===========================>..] - ETA: 0s - loss: 1.3550 - accuracy: 0.5404\n",
      "Epoch 00091: saving model to model/keypoint_classifier/keypoint_classifier.hdf5\n",
      "62/62 [==============================] - 0s 2ms/step - loss: 1.3571 - accuracy: 0.5394 - val_loss: 0.8579 - val_accuracy: 0.7457\n",
      "Epoch 92/1000\n",
      "58/62 [===========================>..] - ETA: 0s - loss: 1.3579 - accuracy: 0.5369\n",
      "Epoch 00092: saving model to model/keypoint_classifier/keypoint_classifier.hdf5\n",
      "62/62 [==============================] - 0s 2ms/step - loss: 1.3573 - accuracy: 0.5367 - val_loss: 0.8449 - val_accuracy: 0.7507\n",
      "Epoch 93/1000\n",
      "58/62 [===========================>..] - ETA: 0s - loss: 1.3754 - accuracy: 0.5361\n",
      "Epoch 00093: saving model to model/keypoint_classifier/keypoint_classifier.hdf5\n",
      "62/62 [==============================] - 0s 2ms/step - loss: 1.3714 - accuracy: 0.5368 - val_loss: 0.8443 - val_accuracy: 0.7453\n",
      "Epoch 94/1000\n",
      "50/62 [=======================>......] - ETA: 0s - loss: 1.3585 - accuracy: 0.5466\n",
      "Epoch 00094: saving model to model/keypoint_classifier/keypoint_classifier.hdf5\n",
      "62/62 [==============================] - 0s 2ms/step - loss: 1.3704 - accuracy: 0.5418 - val_loss: 0.8486 - val_accuracy: 0.7484\n",
      "Epoch 95/1000\n",
      "54/62 [=========================>....] - ETA: 0s - loss: 1.3418 - accuracy: 0.5443\n",
      "Epoch 00095: saving model to model/keypoint_classifier/keypoint_classifier.hdf5\n",
      "62/62 [==============================] - 0s 2ms/step - loss: 1.3387 - accuracy: 0.5443 - val_loss: 0.8464 - val_accuracy: 0.7484\n",
      "Epoch 96/1000\n",
      "54/62 [=========================>....] - ETA: 0s - loss: 1.3674 - accuracy: 0.5375\n",
      "Epoch 00096: saving model to model/keypoint_classifier/keypoint_classifier.hdf5\n",
      "62/62 [==============================] - 0s 2ms/step - loss: 1.3606 - accuracy: 0.5417 - val_loss: 0.8498 - val_accuracy: 0.7514\n",
      "Epoch 97/1000\n",
      "61/62 [============================>.] - ETA: 0s - loss: 1.3685 - accuracy: 0.5360\n",
      "Epoch 00097: saving model to model/keypoint_classifier/keypoint_classifier.hdf5\n",
      "62/62 [==============================] - 0s 2ms/step - loss: 1.3681 - accuracy: 0.5359 - val_loss: 0.8612 - val_accuracy: 0.7334\n",
      "Epoch 98/1000\n",
      "61/62 [============================>.] - ETA: 0s - loss: 1.3630 - accuracy: 0.5392\n",
      "Epoch 00098: saving model to model/keypoint_classifier/keypoint_classifier.hdf5\n",
      "62/62 [==============================] - 0s 2ms/step - loss: 1.3631 - accuracy: 0.5394 - val_loss: 0.8365 - val_accuracy: 0.7522\n",
      "Epoch 99/1000\n",
      "59/62 [===========================>..] - ETA: 0s - loss: 1.3538 - accuracy: 0.5389\n",
      "Epoch 00099: saving model to model/keypoint_classifier/keypoint_classifier.hdf5\n",
      "62/62 [==============================] - 0s 2ms/step - loss: 1.3532 - accuracy: 0.5393 - val_loss: 0.8318 - val_accuracy: 0.7557\n",
      "Epoch 100/1000\n",
      "59/62 [===========================>..] - ETA: 0s - loss: 1.3407 - accuracy: 0.5408\n",
      "Epoch 00100: saving model to model/keypoint_classifier/keypoint_classifier.hdf5\n",
      "62/62 [==============================] - 0s 2ms/step - loss: 1.3445 - accuracy: 0.5399 - val_loss: 0.8430 - val_accuracy: 0.7445\n",
      "Epoch 101/1000\n",
      "59/62 [===========================>..] - ETA: 0s - loss: 1.3539 - accuracy: 0.5442\n",
      "Epoch 00101: saving model to model/keypoint_classifier/keypoint_classifier.hdf5\n",
      "62/62 [==============================] - 0s 2ms/step - loss: 1.3536 - accuracy: 0.5452 - val_loss: 0.8497 - val_accuracy: 0.7426\n",
      "Epoch 102/1000\n",
      "56/62 [==========================>...] - ETA: 0s - loss: 1.3536 - accuracy: 0.5405\n",
      "Epoch 00102: saving model to model/keypoint_classifier/keypoint_classifier.hdf5\n",
      "62/62 [==============================] - 0s 2ms/step - loss: 1.3522 - accuracy: 0.5400 - val_loss: 0.8559 - val_accuracy: 0.7346\n",
      "Epoch 103/1000\n",
      "54/62 [=========================>....] - ETA: 0s - loss: 1.3699 - accuracy: 0.5408\n",
      "Epoch 00103: saving model to model/keypoint_classifier/keypoint_classifier.hdf5\n",
      "62/62 [==============================] - 0s 2ms/step - loss: 1.3644 - accuracy: 0.5428 - val_loss: 0.8595 - val_accuracy: 0.7530\n",
      "Epoch 104/1000\n",
      "59/62 [===========================>..] - ETA: 0s - loss: 1.3519 - accuracy: 0.5440\n",
      "Epoch 00104: saving model to model/keypoint_classifier/keypoint_classifier.hdf5\n",
      "62/62 [==============================] - 0s 2ms/step - loss: 1.3506 - accuracy: 0.5445 - val_loss: 0.8418 - val_accuracy: 0.7603\n",
      "Epoch 105/1000\n",
      "57/62 [==========================>...] - ETA: 0s - loss: 1.3444 - accuracy: 0.5470\n",
      "Epoch 00105: saving model to model/keypoint_classifier/keypoint_classifier.hdf5\n",
      "62/62 [==============================] - 0s 2ms/step - loss: 1.3443 - accuracy: 0.5453 - val_loss: 0.8338 - val_accuracy: 0.7507\n",
      "Epoch 106/1000\n",
      "59/62 [===========================>..] - ETA: 0s - loss: 1.3297 - accuracy: 0.5473\n",
      "Epoch 00106: saving model to model/keypoint_classifier/keypoint_classifier.hdf5\n",
      "62/62 [==============================] - 0s 2ms/step - loss: 1.3287 - accuracy: 0.5481 - val_loss: 0.8346 - val_accuracy: 0.7488\n",
      "Epoch 107/1000\n",
      "57/62 [==========================>...] - ETA: 0s - loss: 1.3336 - accuracy: 0.5466\n",
      "Epoch 00107: saving model to model/keypoint_classifier/keypoint_classifier.hdf5\n",
      "62/62 [==============================] - 0s 2ms/step - loss: 1.3406 - accuracy: 0.5445 - val_loss: 0.8478 - val_accuracy: 0.7430\n",
      "Epoch 108/1000\n",
      "53/62 [========================>.....] - ETA: 0s - loss: 1.3333 - accuracy: 0.5472\n",
      "Epoch 00108: saving model to model/keypoint_classifier/keypoint_classifier.hdf5\n",
      "62/62 [==============================] - 0s 2ms/step - loss: 1.3401 - accuracy: 0.5463 - val_loss: 0.8381 - val_accuracy: 0.7461\n"
     ]
    },
    {
     "name": "stdout",
     "output_type": "stream",
     "text": [
      "Epoch 109/1000\n",
      "57/62 [==========================>...] - ETA: 0s - loss: 1.3485 - accuracy: 0.5430\n",
      "Epoch 00109: saving model to model/keypoint_classifier/keypoint_classifier.hdf5\n",
      "62/62 [==============================] - 0s 2ms/step - loss: 1.3487 - accuracy: 0.5414 - val_loss: 0.8382 - val_accuracy: 0.7568\n",
      "Epoch 110/1000\n",
      "59/62 [===========================>..] - ETA: 0s - loss: 1.3422 - accuracy: 0.5487\n",
      "Epoch 00110: saving model to model/keypoint_classifier/keypoint_classifier.hdf5\n",
      "62/62 [==============================] - 0s 2ms/step - loss: 1.3424 - accuracy: 0.5477 - val_loss: 0.8262 - val_accuracy: 0.7568\n",
      "Epoch 111/1000\n",
      "60/62 [============================>.] - ETA: 0s - loss: 1.3249 - accuracy: 0.5486\n",
      "Epoch 00111: saving model to model/keypoint_classifier/keypoint_classifier.hdf5\n",
      "62/62 [==============================] - 0s 2ms/step - loss: 1.3253 - accuracy: 0.5487 - val_loss: 0.8359 - val_accuracy: 0.7357\n",
      "Epoch 112/1000\n",
      "61/62 [============================>.] - ETA: 0s - loss: 1.3291 - accuracy: 0.5485\n",
      "Epoch 00112: saving model to model/keypoint_classifier/keypoint_classifier.hdf5\n",
      "62/62 [==============================] - 0s 2ms/step - loss: 1.3296 - accuracy: 0.5483 - val_loss: 0.8355 - val_accuracy: 0.7476\n",
      "Epoch 113/1000\n",
      "60/62 [============================>.] - ETA: 0s - loss: 1.3656 - accuracy: 0.5342\n",
      "Epoch 00113: saving model to model/keypoint_classifier/keypoint_classifier.hdf5\n",
      "62/62 [==============================] - 0s 2ms/step - loss: 1.3624 - accuracy: 0.5353 - val_loss: 0.8356 - val_accuracy: 0.7545\n",
      "Epoch 114/1000\n",
      "58/62 [===========================>..] - ETA: 0s - loss: 1.3293 - accuracy: 0.5525\n",
      "Epoch 00114: saving model to model/keypoint_classifier/keypoint_classifier.hdf5\n",
      "62/62 [==============================] - 0s 2ms/step - loss: 1.3292 - accuracy: 0.5527 - val_loss: 0.8373 - val_accuracy: 0.7415\n",
      "Epoch 115/1000\n",
      "55/62 [=========================>....] - ETA: 0s - loss: 1.3592 - accuracy: 0.5445\n",
      "Epoch 00115: saving model to model/keypoint_classifier/keypoint_classifier.hdf5\n",
      "62/62 [==============================] - 0s 2ms/step - loss: 1.3599 - accuracy: 0.5459 - val_loss: 0.8455 - val_accuracy: 0.7369\n",
      "Epoch 116/1000\n",
      "56/62 [==========================>...] - ETA: 0s - loss: 1.3444 - accuracy: 0.5402\n",
      "Epoch 00116: saving model to model/keypoint_classifier/keypoint_classifier.hdf5\n",
      "62/62 [==============================] - 0s 2ms/step - loss: 1.3435 - accuracy: 0.5403 - val_loss: 0.8291 - val_accuracy: 0.7610\n",
      "Epoch 117/1000\n",
      "60/62 [============================>.] - ETA: 0s - loss: 1.3455 - accuracy: 0.5514\n",
      "Epoch 00117: saving model to model/keypoint_classifier/keypoint_classifier.hdf5\n",
      "62/62 [==============================] - 0s 2ms/step - loss: 1.3444 - accuracy: 0.5530 - val_loss: 0.8423 - val_accuracy: 0.7395\n",
      "Epoch 118/1000\n",
      "58/62 [===========================>..] - ETA: 0s - loss: 1.3334 - accuracy: 0.5474\n",
      "Epoch 00118: saving model to model/keypoint_classifier/keypoint_classifier.hdf5\n",
      "62/62 [==============================] - 0s 2ms/step - loss: 1.3310 - accuracy: 0.5477 - val_loss: 0.8415 - val_accuracy: 0.7534\n",
      "Epoch 119/1000\n",
      "58/62 [===========================>..] - ETA: 0s - loss: 1.3271 - accuracy: 0.5515\n",
      "Epoch 00119: saving model to model/keypoint_classifier/keypoint_classifier.hdf5\n",
      "62/62 [==============================] - 0s 2ms/step - loss: 1.3283 - accuracy: 0.5519 - val_loss: 0.8290 - val_accuracy: 0.7488\n",
      "Epoch 120/1000\n",
      "56/62 [==========================>...] - ETA: 0s - loss: 1.3337 - accuracy: 0.5497\n",
      "Epoch 00120: saving model to model/keypoint_classifier/keypoint_classifier.hdf5\n",
      "62/62 [==============================] - 0s 2ms/step - loss: 1.3299 - accuracy: 0.5495 - val_loss: 0.8197 - val_accuracy: 0.7488\n",
      "Epoch 121/1000\n",
      "55/62 [=========================>....] - ETA: 0s - loss: 1.3434 - accuracy: 0.5401\n",
      "Epoch 00121: saving model to model/keypoint_classifier/keypoint_classifier.hdf5\n",
      "62/62 [==============================] - 0s 2ms/step - loss: 1.3379 - accuracy: 0.5426 - val_loss: 0.8416 - val_accuracy: 0.7411\n",
      "Epoch 122/1000\n",
      "55/62 [=========================>....] - ETA: 0s - loss: 1.3062 - accuracy: 0.5562\n",
      "Epoch 00122: saving model to model/keypoint_classifier/keypoint_classifier.hdf5\n",
      "62/62 [==============================] - 0s 2ms/step - loss: 1.3102 - accuracy: 0.5559 - val_loss: 0.8248 - val_accuracy: 0.7534\n",
      "Epoch 123/1000\n",
      "57/62 [==========================>...] - ETA: 0s - loss: 1.3324 - accuracy: 0.5510\n",
      "Epoch 00123: saving model to model/keypoint_classifier/keypoint_classifier.hdf5\n",
      "62/62 [==============================] - 0s 2ms/step - loss: 1.3283 - accuracy: 0.5509 - val_loss: 0.8292 - val_accuracy: 0.7511\n",
      "Epoch 124/1000\n",
      "56/62 [==========================>...] - ETA: 0s - loss: 1.3372 - accuracy: 0.5467\n",
      "Epoch 00124: saving model to model/keypoint_classifier/keypoint_classifier.hdf5\n",
      "62/62 [==============================] - 0s 2ms/step - loss: 1.3370 - accuracy: 0.5466 - val_loss: 0.8224 - val_accuracy: 0.7553\n",
      "Epoch 125/1000\n",
      "56/62 [==========================>...] - ETA: 0s - loss: 1.3514 - accuracy: 0.5426\n",
      "Epoch 00125: saving model to model/keypoint_classifier/keypoint_classifier.hdf5\n",
      "62/62 [==============================] - 0s 2ms/step - loss: 1.3555 - accuracy: 0.5409 - val_loss: 0.8296 - val_accuracy: 0.7488\n",
      "Epoch 126/1000\n",
      "52/62 [========================>.....] - ETA: 0s - loss: 1.3209 - accuracy: 0.5472\n",
      "Epoch 00126: saving model to model/keypoint_classifier/keypoint_classifier.hdf5\n",
      "62/62 [==============================] - 0s 2ms/step - loss: 1.3192 - accuracy: 0.5508 - val_loss: 0.8339 - val_accuracy: 0.7403\n",
      "Epoch 127/1000\n",
      "50/62 [=======================>......] - ETA: 0s - loss: 1.3073 - accuracy: 0.5612\n",
      "Epoch 00127: saving model to model/keypoint_classifier/keypoint_classifier.hdf5\n",
      "62/62 [==============================] - 0s 2ms/step - loss: 1.3158 - accuracy: 0.5586 - val_loss: 0.8275 - val_accuracy: 0.7495\n",
      "Epoch 128/1000\n",
      "55/62 [=========================>....] - ETA: 0s - loss: 1.3105 - accuracy: 0.5628\n",
      "Epoch 00128: saving model to model/keypoint_classifier/keypoint_classifier.hdf5\n",
      "62/62 [==============================] - 0s 2ms/step - loss: 1.3176 - accuracy: 0.5588 - val_loss: 0.8210 - val_accuracy: 0.7553\n",
      "Epoch 129/1000\n",
      "52/62 [========================>.....] - ETA: 0s - loss: 1.3115 - accuracy: 0.5547\n",
      "Epoch 00129: saving model to model/keypoint_classifier/keypoint_classifier.hdf5\n",
      "62/62 [==============================] - 0s 2ms/step - loss: 1.3122 - accuracy: 0.5558 - val_loss: 0.8388 - val_accuracy: 0.7349\n",
      "Epoch 130/1000\n",
      "57/62 [==========================>...] - ETA: 0s - loss: 1.3188 - accuracy: 0.5517\n",
      "Epoch 00130: saving model to model/keypoint_classifier/keypoint_classifier.hdf5\n",
      "62/62 [==============================] - 0s 2ms/step - loss: 1.3171 - accuracy: 0.5518 - val_loss: 0.8323 - val_accuracy: 0.7403\n",
      "Epoch 131/1000\n",
      "59/62 [===========================>..] - ETA: 0s - loss: 1.3376 - accuracy: 0.5487\n",
      "Epoch 00131: saving model to model/keypoint_classifier/keypoint_classifier.hdf5\n",
      "62/62 [==============================] - 0s 2ms/step - loss: 1.3363 - accuracy: 0.5483 - val_loss: 0.8356 - val_accuracy: 0.7422\n",
      "Epoch 132/1000\n",
      "53/62 [========================>.....] - ETA: 0s - loss: 1.3186 - accuracy: 0.5481\n",
      "Epoch 00132: saving model to model/keypoint_classifier/keypoint_classifier.hdf5\n",
      "62/62 [==============================] - 0s 2ms/step - loss: 1.3173 - accuracy: 0.5492 - val_loss: 0.8198 - val_accuracy: 0.7537\n",
      "Epoch 133/1000\n",
      "59/62 [===========================>..] - ETA: 0s - loss: 1.3258 - accuracy: 0.5510\n",
      "Epoch 00133: saving model to model/keypoint_classifier/keypoint_classifier.hdf5\n",
      "62/62 [==============================] - 0s 2ms/step - loss: 1.3250 - accuracy: 0.5510 - val_loss: 0.8282 - val_accuracy: 0.7499\n",
      "Epoch 134/1000\n",
      "61/62 [============================>.] - ETA: 0s - loss: 1.3111 - accuracy: 0.5539\n",
      "Epoch 00134: saving model to model/keypoint_classifier/keypoint_classifier.hdf5\n",
      "62/62 [==============================] - 0s 2ms/step - loss: 1.3111 - accuracy: 0.5537 - val_loss: 0.8215 - val_accuracy: 0.7507\n",
      "Epoch 135/1000\n",
      "56/62 [==========================>...] - ETA: 0s - loss: 1.3053 - accuracy: 0.5619\n",
      "Epoch 00135: saving model to model/keypoint_classifier/keypoint_classifier.hdf5\n",
      "62/62 [==============================] - 0s 2ms/step - loss: 1.3062 - accuracy: 0.5620 - val_loss: 0.8245 - val_accuracy: 0.7476\n"
     ]
    },
    {
     "name": "stdout",
     "output_type": "stream",
     "text": [
      "Epoch 136/1000\n",
      "53/62 [========================>.....] - ETA: 0s - loss: 1.3123 - accuracy: 0.5470\n",
      "Epoch 00136: saving model to model/keypoint_classifier/keypoint_classifier.hdf5\n",
      "62/62 [==============================] - 0s 2ms/step - loss: 1.3148 - accuracy: 0.5466 - val_loss: 0.8327 - val_accuracy: 0.7526\n",
      "Epoch 137/1000\n",
      "48/62 [======================>.......] - ETA: 0s - loss: 1.3291 - accuracy: 0.5617\n",
      "Epoch 00137: saving model to model/keypoint_classifier/keypoint_classifier.hdf5\n",
      "62/62 [==============================] - 0s 2ms/step - loss: 1.3302 - accuracy: 0.5579 - val_loss: 0.8346 - val_accuracy: 0.7418\n",
      "Epoch 138/1000\n",
      "60/62 [============================>.] - ETA: 0s - loss: 1.3428 - accuracy: 0.5512\n",
      "Epoch 00138: saving model to model/keypoint_classifier/keypoint_classifier.hdf5\n",
      "62/62 [==============================] - 0s 2ms/step - loss: 1.3461 - accuracy: 0.5513 - val_loss: 0.8416 - val_accuracy: 0.7346\n",
      "Epoch 139/1000\n",
      "57/62 [==========================>...] - ETA: 0s - loss: 1.3105 - accuracy: 0.5583\n",
      "Epoch 00139: saving model to model/keypoint_classifier/keypoint_classifier.hdf5\n",
      "62/62 [==============================] - 0s 2ms/step - loss: 1.3123 - accuracy: 0.5573 - val_loss: 0.8194 - val_accuracy: 0.7580\n",
      "Epoch 140/1000\n",
      "58/62 [===========================>..] - ETA: 0s - loss: 1.3135 - accuracy: 0.5509\n",
      "Epoch 00140: saving model to model/keypoint_classifier/keypoint_classifier.hdf5\n",
      "62/62 [==============================] - 0s 2ms/step - loss: 1.3178 - accuracy: 0.5503 - val_loss: 0.8234 - val_accuracy: 0.7484\n",
      "Epoch 141/1000\n",
      "57/62 [==========================>...] - ETA: 0s - loss: 1.2983 - accuracy: 0.5618\n",
      "Epoch 00141: saving model to model/keypoint_classifier/keypoint_classifier.hdf5\n",
      "62/62 [==============================] - 0s 2ms/step - loss: 1.2978 - accuracy: 0.5610 - val_loss: 0.8076 - val_accuracy: 0.7476\n",
      "Epoch 142/1000\n",
      "60/62 [============================>.] - ETA: 0s - loss: 1.3260 - accuracy: 0.5605\n",
      "Epoch 00142: saving model to model/keypoint_classifier/keypoint_classifier.hdf5\n",
      "62/62 [==============================] - 0s 2ms/step - loss: 1.3221 - accuracy: 0.5614 - val_loss: 0.8362 - val_accuracy: 0.7315\n",
      "Epoch 143/1000\n",
      "58/62 [===========================>..] - ETA: 0s - loss: 1.3312 - accuracy: 0.5489\n",
      "Epoch 00143: saving model to model/keypoint_classifier/keypoint_classifier.hdf5\n",
      "62/62 [==============================] - 0s 2ms/step - loss: 1.3298 - accuracy: 0.5492 - val_loss: 0.8217 - val_accuracy: 0.7442\n",
      "Epoch 144/1000\n",
      "61/62 [============================>.] - ETA: 0s - loss: 1.2981 - accuracy: 0.5620\n",
      "Epoch 00144: saving model to model/keypoint_classifier/keypoint_classifier.hdf5\n",
      "62/62 [==============================] - 0s 2ms/step - loss: 1.2985 - accuracy: 0.5617 - val_loss: 0.8208 - val_accuracy: 0.7495\n",
      "Epoch 145/1000\n",
      "60/62 [============================>.] - ETA: 0s - loss: 1.3237 - accuracy: 0.5531\n",
      "Epoch 00145: saving model to model/keypoint_classifier/keypoint_classifier.hdf5\n",
      "62/62 [==============================] - 0s 2ms/step - loss: 1.3262 - accuracy: 0.5531 - val_loss: 0.8151 - val_accuracy: 0.7537\n",
      "Epoch 146/1000\n",
      "60/62 [============================>.] - ETA: 0s - loss: 1.3236 - accuracy: 0.5552\n",
      "Epoch 00146: saving model to model/keypoint_classifier/keypoint_classifier.hdf5\n",
      "62/62 [==============================] - 0s 2ms/step - loss: 1.3223 - accuracy: 0.5558 - val_loss: 0.8334 - val_accuracy: 0.7468\n",
      "Epoch 147/1000\n",
      "57/62 [==========================>...] - ETA: 0s - loss: 1.3343 - accuracy: 0.5562\n",
      "Epoch 00147: saving model to model/keypoint_classifier/keypoint_classifier.hdf5\n",
      "62/62 [==============================] - 0s 2ms/step - loss: 1.3336 - accuracy: 0.5574 - val_loss: 0.8261 - val_accuracy: 0.7415\n",
      "Epoch 148/1000\n",
      "59/62 [===========================>..] - ETA: 0s - loss: 1.2993 - accuracy: 0.5655\n",
      "Epoch 00148: saving model to model/keypoint_classifier/keypoint_classifier.hdf5\n",
      "62/62 [==============================] - 0s 2ms/step - loss: 1.2958 - accuracy: 0.5665 - val_loss: 0.8295 - val_accuracy: 0.7303\n",
      "Epoch 149/1000\n",
      "60/62 [============================>.] - ETA: 0s - loss: 1.3017 - accuracy: 0.5592\n",
      "Epoch 00149: saving model to model/keypoint_classifier/keypoint_classifier.hdf5\n",
      "62/62 [==============================] - 0s 2ms/step - loss: 1.2993 - accuracy: 0.5602 - val_loss: 0.8111 - val_accuracy: 0.7384\n",
      "Epoch 150/1000\n",
      "58/62 [===========================>..] - ETA: 0s - loss: 1.3143 - accuracy: 0.5533\n",
      "Epoch 00150: saving model to model/keypoint_classifier/keypoint_classifier.hdf5\n",
      "62/62 [==============================] - 0s 2ms/step - loss: 1.3117 - accuracy: 0.5542 - val_loss: 0.8122 - val_accuracy: 0.7553\n",
      "Epoch 151/1000\n",
      "58/62 [===========================>..] - ETA: 0s - loss: 1.3179 - accuracy: 0.5582\n",
      "Epoch 00151: saving model to model/keypoint_classifier/keypoint_classifier.hdf5\n",
      "62/62 [==============================] - 0s 2ms/step - loss: 1.3151 - accuracy: 0.5595 - val_loss: 0.8151 - val_accuracy: 0.7484\n",
      "Epoch 152/1000\n",
      "58/62 [===========================>..] - ETA: 0s - loss: 1.2929 - accuracy: 0.5607\n",
      "Epoch 00152: saving model to model/keypoint_classifier/keypoint_classifier.hdf5\n",
      "62/62 [==============================] - 0s 2ms/step - loss: 1.2962 - accuracy: 0.5599 - val_loss: 0.8181 - val_accuracy: 0.7530\n",
      "Epoch 153/1000\n",
      "57/62 [==========================>...] - ETA: 0s - loss: 1.3061 - accuracy: 0.5622\n",
      "Epoch 00153: saving model to model/keypoint_classifier/keypoint_classifier.hdf5\n",
      "62/62 [==============================] - 0s 2ms/step - loss: 1.3050 - accuracy: 0.5610 - val_loss: 0.8047 - val_accuracy: 0.7461\n",
      "Epoch 154/1000\n",
      "56/62 [==========================>...] - ETA: 0s - loss: 1.3188 - accuracy: 0.5576\n",
      "Epoch 00154: saving model to model/keypoint_classifier/keypoint_classifier.hdf5\n",
      "62/62 [==============================] - 0s 2ms/step - loss: 1.3160 - accuracy: 0.5588 - val_loss: 0.8164 - val_accuracy: 0.7353\n",
      "Epoch 155/1000\n",
      "59/62 [===========================>..] - ETA: 0s - loss: 1.2875 - accuracy: 0.5697\n",
      "Epoch 00155: saving model to model/keypoint_classifier/keypoint_classifier.hdf5\n",
      "62/62 [==============================] - 0s 2ms/step - loss: 1.2863 - accuracy: 0.5697 - val_loss: 0.8110 - val_accuracy: 0.7595\n",
      "Epoch 156/1000\n",
      "52/62 [========================>.....] - ETA: 0s - loss: 1.3226 - accuracy: 0.5586\n",
      "Epoch 00156: saving model to model/keypoint_classifier/keypoint_classifier.hdf5\n",
      "62/62 [==============================] - 0s 2ms/step - loss: 1.3204 - accuracy: 0.5615 - val_loss: 0.8301 - val_accuracy: 0.7434\n",
      "Epoch 157/1000\n",
      "57/62 [==========================>...] - ETA: 0s - loss: 1.3144 - accuracy: 0.5563\n",
      "Epoch 00157: saving model to model/keypoint_classifier/keypoint_classifier.hdf5\n",
      "62/62 [==============================] - 0s 2ms/step - loss: 1.3158 - accuracy: 0.5560 - val_loss: 0.8242 - val_accuracy: 0.7361\n",
      "Epoch 158/1000\n",
      "58/62 [===========================>..] - ETA: 0s - loss: 1.3233 - accuracy: 0.5525\n",
      "Epoch 00158: saving model to model/keypoint_classifier/keypoint_classifier.hdf5\n",
      "62/62 [==============================] - 0s 2ms/step - loss: 1.3256 - accuracy: 0.5517 - val_loss: 0.8342 - val_accuracy: 0.7280\n",
      "Epoch 159/1000\n",
      "54/62 [=========================>....] - ETA: 0s - loss: 1.2913 - accuracy: 0.5579\n",
      "Epoch 00159: saving model to model/keypoint_classifier/keypoint_classifier.hdf5\n",
      "62/62 [==============================] - 0s 2ms/step - loss: 1.2801 - accuracy: 0.5605 - val_loss: 0.8009 - val_accuracy: 0.7461\n",
      "Epoch 160/1000\n",
      "52/62 [========================>.....] - ETA: 0s - loss: 1.3062 - accuracy: 0.5658\n",
      "Epoch 00160: saving model to model/keypoint_classifier/keypoint_classifier.hdf5\n",
      "62/62 [==============================] - 0s 2ms/step - loss: 1.3137 - accuracy: 0.5613 - val_loss: 0.8204 - val_accuracy: 0.7307\n",
      "Epoch 161/1000\n",
      "60/62 [============================>.] - ETA: 0s - loss: 1.3088 - accuracy: 0.5591\n",
      "Epoch 00161: saving model to model/keypoint_classifier/keypoint_classifier.hdf5\n",
      "62/62 [==============================] - 0s 2ms/step - loss: 1.3063 - accuracy: 0.5604 - val_loss: 0.8073 - val_accuracy: 0.7369\n",
      "Epoch 162/1000\n",
      "55/62 [=========================>....] - ETA: 0s - loss: 1.3062 - accuracy: 0.5624\n",
      "Epoch 00162: saving model to model/keypoint_classifier/keypoint_classifier.hdf5\n",
      "62/62 [==============================] - 0s 2ms/step - loss: 1.3108 - accuracy: 0.5613 - val_loss: 0.8151 - val_accuracy: 0.7442\n"
     ]
    },
    {
     "name": "stdout",
     "output_type": "stream",
     "text": [
      "Epoch 163/1000\n",
      "56/62 [==========================>...] - ETA: 0s - loss: 1.3114 - accuracy: 0.5579\n",
      "Epoch 00163: saving model to model/keypoint_classifier/keypoint_classifier.hdf5\n",
      "62/62 [==============================] - 0s 2ms/step - loss: 1.3104 - accuracy: 0.5586 - val_loss: 0.8331 - val_accuracy: 0.7457\n",
      "Epoch 164/1000\n",
      "57/62 [==========================>...] - ETA: 0s - loss: 1.3150 - accuracy: 0.5535\n",
      "Epoch 00164: saving model to model/keypoint_classifier/keypoint_classifier.hdf5\n",
      "62/62 [==============================] - 0s 2ms/step - loss: 1.3172 - accuracy: 0.5545 - val_loss: 0.8162 - val_accuracy: 0.7395\n",
      "Epoch 165/1000\n",
      "59/62 [===========================>..] - ETA: 0s - loss: 1.3222 - accuracy: 0.5539\n",
      "Epoch 00165: saving model to model/keypoint_classifier/keypoint_classifier.hdf5\n",
      "62/62 [==============================] - 0s 2ms/step - loss: 1.3196 - accuracy: 0.5546 - val_loss: 0.7950 - val_accuracy: 0.7633\n",
      "Epoch 166/1000\n",
      "58/62 [===========================>..] - ETA: 0s - loss: 1.3075 - accuracy: 0.5541\n",
      "Epoch 00166: saving model to model/keypoint_classifier/keypoint_classifier.hdf5\n",
      "62/62 [==============================] - 0s 2ms/step - loss: 1.3070 - accuracy: 0.5545 - val_loss: 0.8212 - val_accuracy: 0.7388\n",
      "Epoch 167/1000\n",
      "59/62 [===========================>..] - ETA: 0s - loss: 1.3156 - accuracy: 0.5564\n",
      "Epoch 00167: saving model to model/keypoint_classifier/keypoint_classifier.hdf5\n",
      "62/62 [==============================] - 0s 2ms/step - loss: 1.3106 - accuracy: 0.5587 - val_loss: 0.8029 - val_accuracy: 0.7583\n",
      "Epoch 168/1000\n",
      "58/62 [===========================>..] - ETA: 0s - loss: 1.3079 - accuracy: 0.5625\n",
      "Epoch 00168: saving model to model/keypoint_classifier/keypoint_classifier.hdf5\n",
      "62/62 [==============================] - 0s 2ms/step - loss: 1.3113 - accuracy: 0.5611 - val_loss: 0.8250 - val_accuracy: 0.7461\n",
      "Epoch 169/1000\n",
      "57/62 [==========================>...] - ETA: 0s - loss: 1.3193 - accuracy: 0.5614\n",
      "Epoch 00169: saving model to model/keypoint_classifier/keypoint_classifier.hdf5\n",
      "62/62 [==============================] - 0s 2ms/step - loss: 1.3198 - accuracy: 0.5613 - val_loss: 0.8312 - val_accuracy: 0.7338\n",
      "Epoch 170/1000\n",
      "59/62 [===========================>..] - ETA: 0s - loss: 1.3204 - accuracy: 0.5508\n",
      "Epoch 00170: saving model to model/keypoint_classifier/keypoint_classifier.hdf5\n",
      "62/62 [==============================] - 0s 2ms/step - loss: 1.3196 - accuracy: 0.5513 - val_loss: 0.8158 - val_accuracy: 0.7526\n",
      "Epoch 171/1000\n",
      "58/62 [===========================>..] - ETA: 0s - loss: 1.3009 - accuracy: 0.5687\n",
      "Epoch 00171: saving model to model/keypoint_classifier/keypoint_classifier.hdf5\n",
      "62/62 [==============================] - 0s 2ms/step - loss: 1.3048 - accuracy: 0.5693 - val_loss: 0.8054 - val_accuracy: 0.7603\n",
      "Epoch 172/1000\n",
      "58/62 [===========================>..] - ETA: 0s - loss: 1.3020 - accuracy: 0.5641\n",
      "Epoch 00172: saving model to model/keypoint_classifier/keypoint_classifier.hdf5\n",
      "62/62 [==============================] - 0s 2ms/step - loss: 1.3027 - accuracy: 0.5649 - val_loss: 0.8130 - val_accuracy: 0.7507\n",
      "Epoch 173/1000\n",
      "56/62 [==========================>...] - ETA: 0s - loss: 1.3033 - accuracy: 0.5610\n",
      "Epoch 00173: saving model to model/keypoint_classifier/keypoint_classifier.hdf5\n",
      "62/62 [==============================] - 0s 2ms/step - loss: 1.2998 - accuracy: 0.5619 - val_loss: 0.8069 - val_accuracy: 0.7537\n",
      "Epoch 174/1000\n",
      "56/62 [==========================>...] - ETA: 0s - loss: 1.3275 - accuracy: 0.5573\n",
      "Epoch 00174: saving model to model/keypoint_classifier/keypoint_classifier.hdf5\n",
      "62/62 [==============================] - 0s 2ms/step - loss: 1.3217 - accuracy: 0.5579 - val_loss: 0.8266 - val_accuracy: 0.7346\n",
      "Epoch 175/1000\n",
      "60/62 [============================>.] - ETA: 0s - loss: 1.2759 - accuracy: 0.5777\n",
      "Epoch 00175: saving model to model/keypoint_classifier/keypoint_classifier.hdf5\n",
      "62/62 [==============================] - 0s 2ms/step - loss: 1.2755 - accuracy: 0.5774 - val_loss: 0.8043 - val_accuracy: 0.7499\n",
      "Epoch 176/1000\n",
      "57/62 [==========================>...] - ETA: 0s - loss: 1.2900 - accuracy: 0.5726\n",
      "Epoch 00176: saving model to model/keypoint_classifier/keypoint_classifier.hdf5\n",
      "62/62 [==============================] - 0s 2ms/step - loss: 1.2885 - accuracy: 0.5723 - val_loss: 0.8100 - val_accuracy: 0.7461\n",
      "Epoch 177/1000\n",
      "58/62 [===========================>..] - ETA: 0s - loss: 1.3031 - accuracy: 0.5657\n",
      "Epoch 00177: saving model to model/keypoint_classifier/keypoint_classifier.hdf5\n",
      "62/62 [==============================] - 0s 2ms/step - loss: 1.2989 - accuracy: 0.5683 - val_loss: 0.8087 - val_accuracy: 0.7491\n",
      "Epoch 178/1000\n",
      "58/62 [===========================>..] - ETA: 0s - loss: 1.3176 - accuracy: 0.5551\n",
      "Epoch 00178: saving model to model/keypoint_classifier/keypoint_classifier.hdf5\n",
      "62/62 [==============================] - 0s 2ms/step - loss: 1.3170 - accuracy: 0.5567 - val_loss: 0.8123 - val_accuracy: 0.7488\n",
      "Epoch 179/1000\n",
      "57/62 [==========================>...] - ETA: 0s - loss: 1.3060 - accuracy: 0.5569\n",
      "Epoch 00179: saving model to model/keypoint_classifier/keypoint_classifier.hdf5\n",
      "62/62 [==============================] - 0s 2ms/step - loss: 1.3013 - accuracy: 0.5590 - val_loss: 0.8219 - val_accuracy: 0.7384\n",
      "Epoch 180/1000\n",
      "59/62 [===========================>..] - ETA: 0s - loss: 1.2856 - accuracy: 0.5547\n",
      "Epoch 00180: saving model to model/keypoint_classifier/keypoint_classifier.hdf5\n",
      "62/62 [==============================] - 0s 2ms/step - loss: 1.2902 - accuracy: 0.5541 - val_loss: 0.8204 - val_accuracy: 0.7430\n",
      "Epoch 181/1000\n",
      "59/62 [===========================>..] - ETA: 0s - loss: 1.2916 - accuracy: 0.5625\n",
      "Epoch 00181: saving model to model/keypoint_classifier/keypoint_classifier.hdf5\n",
      "62/62 [==============================] - 0s 2ms/step - loss: 1.2913 - accuracy: 0.5627 - val_loss: 0.8174 - val_accuracy: 0.7461\n",
      "Epoch 182/1000\n",
      "56/62 [==========================>...] - ETA: 0s - loss: 1.3005 - accuracy: 0.5624\n",
      "Epoch 00182: saving model to model/keypoint_classifier/keypoint_classifier.hdf5\n",
      "62/62 [==============================] - 0s 2ms/step - loss: 1.2989 - accuracy: 0.5625 - val_loss: 0.8089 - val_accuracy: 0.7418\n",
      "Epoch 183/1000\n",
      "59/62 [===========================>..] - ETA: 0s - loss: 1.3047 - accuracy: 0.5661\n",
      "Epoch 00183: saving model to model/keypoint_classifier/keypoint_classifier.hdf5\n",
      "62/62 [==============================] - 0s 2ms/step - loss: 1.3005 - accuracy: 0.5655 - val_loss: 0.8059 - val_accuracy: 0.7507\n",
      "Epoch 184/1000\n",
      "60/62 [============================>.] - ETA: 0s - loss: 1.2851 - accuracy: 0.5707\n",
      "Epoch 00184: saving model to model/keypoint_classifier/keypoint_classifier.hdf5\n",
      "62/62 [==============================] - 0s 2ms/step - loss: 1.2854 - accuracy: 0.5706 - val_loss: 0.8101 - val_accuracy: 0.7407\n",
      "Epoch 185/1000\n",
      "58/62 [===========================>..] - ETA: 0s - loss: 1.2796 - accuracy: 0.5741\n",
      "Epoch 00185: saving model to model/keypoint_classifier/keypoint_classifier.hdf5\n",
      "62/62 [==============================] - 0s 2ms/step - loss: 1.2842 - accuracy: 0.5727 - val_loss: 0.8006 - val_accuracy: 0.7472\n",
      "Epoch 00185: early stopping\n"
     ]
    },
    {
     "data": {
      "text/plain": [
       "<keras.callbacks.History at 0x7f91efabb730>"
      ]
     },
     "execution_count": 11,
     "metadata": {},
     "output_type": "execute_result"
    }
   ],
   "source": [
    "model.fit(\n",
    "    X_train,\n",
    "    y_train,\n",
    "    epochs=1000,\n",
    "    batch_size=128,\n",
    "    validation_data=(X_test, y_test),\n",
    "    callbacks=[cp_callback, es_callback]\n",
    ")"
   ]
  },
  {
   "cell_type": "code",
   "execution_count": 12,
   "metadata": {
    "colab": {
     "base_uri": "https://localhost:8080/"
    },
    "id": "pxvb2Y299hE3",
    "outputId": "59eb3185-2e37-4b9e-bc9d-ab1b8ac29b7f"
   },
   "outputs": [
    {
     "name": "stdout",
     "output_type": "stream",
     "text": [
      "21/21 [==============================] - 0s 889us/step - loss: 0.8006 - accuracy: 0.7472\n"
     ]
    }
   ],
   "source": [
    "# Model evaluation\n",
    "val_loss, val_acc = model.evaluate(X_test, y_test, batch_size=128)"
   ]
  },
  {
   "cell_type": "code",
   "execution_count": 13,
   "metadata": {
    "id": "RBkmDeUW9hE4"
   },
   "outputs": [],
   "source": [
    "# Loading the saved model\n",
    "model = tf.keras.models.load_model(model_save_path)"
   ]
  },
  {
   "cell_type": "code",
   "execution_count": 14,
   "metadata": {
    "colab": {
     "base_uri": "https://localhost:8080/"
    },
    "id": "tFz9Tb0I9hE4",
    "outputId": "1c3b3528-54ae-4ee2-ab04-77429211cbef"
   },
   "outputs": [
    {
     "name": "stdout",
     "output_type": "stream",
     "text": [
      "[6.5386206e-01 1.3755662e-02 1.0186459e-03 3.1250513e-01 1.5026970e-03\n",
      " 2.3950374e-04 9.8575729e-05 3.6246056e-04 2.0561579e-03 1.1376417e-02\n",
      " 1.6218129e-11 2.5573346e-12 4.4092296e-13 9.9691591e-05 2.1209345e-04\n",
      " 1.7670520e-03 1.0547334e-03 3.0873060e-05 1.6116027e-06 5.6641460e-05]\n",
      "0\n"
     ]
    }
   ],
   "source": [
    "# Inference test\n",
    "predict_result = model.predict(np.array([X_test[0]]))\n",
    "print(np.squeeze(predict_result))\n",
    "print(np.argmax(np.squeeze(predict_result)))"
   ]
  },
  {
   "cell_type": "markdown",
   "metadata": {
    "id": "S3U4yNWx9hE4"
   },
   "source": [
    "# Confusion matrix"
   ]
  },
  {
   "cell_type": "code",
   "execution_count": 15,
   "metadata": {
    "colab": {
     "base_uri": "https://localhost:8080/",
     "height": 582
    },
    "id": "AP1V6SCk9hE5",
    "outputId": "08e41a80-7a4a-4619-8125-ecc371368d19"
   },
   "outputs": [
    {
     "data": {
      "image/png": "[encoded data removed]",
      "text/plain": [
       "<Figure size 504x432 with 2 Axes>"
      ]
     },
     "metadata": {
      "needs_background": "light"
     },
     "output_type": "display_data"
    },
    {
     "name": "stdout",
     "output_type": "stream",
     "text": [
      "Classification Report\n",
      "              precision    recall  f1-score   support\n",
      "\n",
      "           0       0.67      0.78      0.72       251\n",
      "           1       0.94      0.79      0.85       424\n",
      "           2       0.80      0.92      0.85       313\n",
      "           3       0.84      0.35      0.49       175\n",
      "           4       0.56      1.00      0.72       162\n",
      "           5       0.90      0.78      0.84       104\n",
      "           6       0.52      1.00      0.68       117\n",
      "           7       0.88      0.85      0.86        67\n",
      "           8       0.50      0.11      0.18        94\n",
      "           9       0.87      0.99      0.92        79\n",
      "          10       0.79      0.96      0.86       112\n",
      "          11       1.00      0.24      0.39        50\n",
      "          12       0.62      0.97      0.76        72\n",
      "          13       0.92      0.13      0.22        95\n",
      "          14       0.71      0.76      0.74       102\n",
      "          15       0.51      0.69      0.59        77\n",
      "          16       0.97      0.42      0.59        66\n",
      "          17       1.00      0.92      0.96        59\n",
      "          18       0.97      0.90      0.93        94\n",
      "          19       0.75      0.70      0.73        94\n",
      "\n",
      "    accuracy                           0.75      2607\n",
      "   macro avg       0.79      0.71      0.69      2607\n",
      "weighted avg       0.79      0.75      0.73      2607\n",
      "\n"
     ]
    }
   ],
   "source": [
    "import pandas as pd\n",
    "import seaborn as sns\n",
    "import matplotlib.pyplot as plt\n",
    "from sklearn.metrics import confusion_matrix, classification_report\n",
    "\n",
    "def print_confusion_matrix(y_true, y_pred, report=True):\n",
    "    labels = sorted(list(set(y_true)))\n",
    "    cmx_data = confusion_matrix(y_true, y_pred, labels=labels)\n",
    "    \n",
    "    df_cmx = pd.DataFrame(cmx_data, index=labels, columns=labels)\n",
    " \n",
    "    fig, ax = plt.subplots(figsize=(7, 6))\n",
    "    sns.heatmap(df_cmx, annot=True, fmt='g' ,square=False)\n",
    "    ax.set_ylim(len(set(y_true)), 0)\n",
    "    plt.show()\n",
    "    \n",
    "    if report:\n",
    "        print('Classification Report')\n",
    "        print(classification_report(y_test, y_pred))\n",
    "\n",
    "Y_pred = model.predict(X_test)\n",
    "y_pred = np.argmax(Y_pred, axis=1)\n",
    "\n",
    "print_confusion_matrix(y_test, y_pred)"
   ]
  },
  {
   "cell_type": "markdown",
   "metadata": {
    "id": "FNP6aqzc9hE5"
   },
   "source": [
    "# Convert to model for Tensorflow-Lite"
   ]
  },
  {
   "cell_type": "code",
   "execution_count": 16,
   "metadata": {
    "id": "ODjnYyld9hE6"
   },
   "outputs": [],
   "source": [
    "# Save as a model dedicated to inference\n",
    "model.save(model_save_path, include_optimizer=False)"
   ]
  },
  {
   "cell_type": "code",
   "execution_count": 17,
   "metadata": {
    "colab": {
     "base_uri": "https://localhost:8080/"
    },
    "id": "zRfuK8Y59hE6",
    "outputId": "a4ca585c-b5d5-4244-8291-8674063209bb"
   },
   "outputs": [
    {
     "name": "stderr",
     "output_type": "stream",
     "text": [
      "2022-05-31 12:30:15.528673: W tensorflow/python/util/util.cc:368] Sets are not currently considered sequences, but this may change in the future, so consider avoiding using them.\n"
     ]
    },
    {
     "name": "stdout",
     "output_type": "stream",
     "text": [
      "INFO:tensorflow:Assets written to: /var/folders/w_/7n14qq393r55_yfyz28cvxlc0000gn/T/tmpyh_djpok/assets\n"
     ]
    },
    {
     "name": "stderr",
     "output_type": "stream",
     "text": [
      "2022-05-31 12:30:17.533696: W tensorflow/compiler/mlir/lite/python/tf_tfl_flatbuffer_helpers.cc:363] Ignored output_format.\n",
      "2022-05-31 12:30:17.533720: W tensorflow/compiler/mlir/lite/python/tf_tfl_flatbuffer_helpers.cc:366] Ignored drop_control_dependency.\n",
      "WARNING:absl:Buffer deduplication procedure will be skipped when flatbuffer library is not properly loaded\n",
      "2022-05-31 12:30:17.538087: I tensorflow/cc/saved_model/reader.cc:43] Reading SavedModel from: /var/folders/w_/7n14qq393r55_yfyz28cvxlc0000gn/T/tmpyh_djpok\n",
      "2022-05-31 12:30:17.542427: I tensorflow/cc/saved_model/reader.cc:107] Reading meta graph with tags { serve }\n",
      "2022-05-31 12:30:17.542438: I tensorflow/cc/saved_model/reader.cc:148] Reading SavedModel debug info (if present) from: /var/folders/w_/7n14qq393r55_yfyz28cvxlc0000gn/T/tmpyh_djpok\n",
      "2022-05-31 12:30:17.550176: I tensorflow/cc/saved_model/loader.cc:210] Restoring SavedModel bundle.\n",
      "2022-05-31 12:30:17.623209: I tensorflow/cc/saved_model/loader.cc:194] Running initialization op on SavedModel bundle at path: /var/folders/w_/7n14qq393r55_yfyz28cvxlc0000gn/T/tmpyh_djpok\n",
      "2022-05-31 12:30:17.637048: I tensorflow/cc/saved_model/loader.cc:283] SavedModel load for tags { serve }; Status: success: OK. Took 99243 microseconds.\n",
      "2022-05-31 12:30:17.703916: I tensorflow/compiler/mlir/tensorflow/utils/dump_mlir_util.cc:237] disabling MLIR crash reproducer, set env var `MLIR_CRASH_REPRODUCER_DIRECTORY` to enable.\n",
      "2022-05-31 12:30:17.805062: I tensorflow/lite/tools/optimize/quantize_weights.cc:225] Skipping quantization of tensor sequential/dense/MatMul because it has fewer than 1024 elements (840).\n",
      "2022-05-31 12:30:17.805084: I tensorflow/lite/tools/optimize/quantize_weights.cc:225] Skipping quantization of tensor sequential/dense_1/MatMul because it has fewer than 1024 elements (200).\n",
      "2022-05-31 12:30:17.805089: I tensorflow/lite/tools/optimize/quantize_weights.cc:225] Skipping quantization of tensor sequential/dense_2/MatMul because it has fewer than 1024 elements (200).\n"
     ]
    },
    {
     "data": {
      "text/plain": [
       "7120"
      ]
     },
     "execution_count": 17,
     "metadata": {},
     "output_type": "execute_result"
    }
   ],
   "source": [
    "# Transform model (quantization)\n",
    "\n",
    "converter = tf.lite.TFLiteConverter.from_keras_model(model)\n",
    "converter.optimizations = [tf.lite.Optimize.DEFAULT]\n",
    "tflite_quantized_model = converter.convert()\n",
    "\n",
    "open(tflite_save_path, 'wb').write(tflite_quantized_model)"
   ]
  },
  {
   "cell_type": "markdown",
   "metadata": {
    "id": "CHBPBXdx9hE6"
   },
   "source": [
    "# Inference test"
   ]
  },
  {
   "cell_type": "code",
   "execution_count": 18,
   "metadata": {
    "id": "mGAzLocO9hE7"
   },
   "outputs": [],
   "source": [
    "interpreter = tf.lite.Interpreter(model_path=tflite_save_path)\n",
    "interpreter.allocate_tensors()"
   ]
  },
  {
   "cell_type": "code",
   "execution_count": 19,
   "metadata": {
    "id": "oQuDK8YS9hE7"
   },
   "outputs": [],
   "source": [
    "# Get I / O tensor\n",
    "input_details = interpreter.get_input_details()\n",
    "output_details = interpreter.get_output_details()"
   ]
  },
  {
   "cell_type": "code",
   "execution_count": 20,
   "metadata": {
    "id": "2_ixAf_l9hE7"
   },
   "outputs": [],
   "source": [
    "interpreter.set_tensor(input_details[0]['index'], np.array([X_test[0]]))"
   ]
  },
  {
   "cell_type": "code",
   "execution_count": 21,
   "metadata": {
    "colab": {
     "base_uri": "https://localhost:8080/"
    },
    "id": "s4FoAnuc9hE7",
    "outputId": "91f18257-8d8b-4ef3-c558-e9b5f94fabbf",
    "scrolled": true
   },
   "outputs": [
    {
     "name": "stdout",
     "output_type": "stream",
     "text": [
      "CPU times: user 1.13 ms, sys: 1.7 ms, total: 2.82 ms\n",
      "Wall time: 2.7 ms\n"
     ]
    }
   ],
   "source": [
    "%%time\n",
    "# Inference implementation\n",
    "interpreter.invoke()\n",
    "tflite_results = interpreter.get_tensor(output_details[0]['index'])"
   ]
  },
  {
   "cell_type": "code",
   "execution_count": 22,
   "metadata": {
    "colab": {
     "base_uri": "https://localhost:8080/"
    },
    "id": "vONjp19J9hE8",
    "outputId": "77205e24-fd00-42c4-f7b6-e06e527c2cba"
   },
   "outputs": [
    {
     "name": "stdout",
     "output_type": "stream",
     "text": [
      "[6.5386200e-01 1.3755671e-02 1.0186468e-03 3.1250510e-01 1.5026961e-03\n",
      " 2.3950350e-04 9.8575816e-05 3.6246039e-04 2.0561577e-03 1.1376427e-02\n",
      " 1.6218160e-11 2.5573343e-12 4.4092291e-13 9.9691584e-05 2.1209344e-04\n",
      " 1.7670528e-03 1.0547333e-03 3.0873056e-05 1.6116039e-06 5.6641456e-05]\n",
      "0\n"
     ]
    }
   ],
   "source": [
    "print(np.squeeze(tflite_results))\n",
    "print(np.argmax(np.squeeze(tflite_results)))"
   ]
  }
 ],
 "metadata": {
  "accelerator": "GPU",
  "colab": {
   "collapsed_sections": [],
   "name": "keypoint_classification_EN.ipynb",
   "provenance": [],
   "toc_visible": true
  },
  "kernelspec": {
   "display_name": "Python 3 (ipykernel)",
   "language": "python",
   "name": "python3"
  },
  "language_info": {
   "codemirror_mode": {
    "name": "ipython",
    "version": 3
   },
   "file_extension": ".py",
   "mimetype": "text/x-python",
   "name": "python",
   "nbconvert_exporter": "python",
   "pygments_lexer": "ipython3",
   "version": "3.8.1"
  }
 },
 "nbformat": 4,
 "nbformat_minor": 1
}
